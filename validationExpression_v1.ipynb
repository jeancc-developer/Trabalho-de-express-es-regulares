{
 "cells": [
  {
   "cell_type": "markdown",
   "id": "52b436c0-5d94-4c5b-a596-262d81e19b2b",
   "metadata": {
    "tags": []
   },
   "source": [
    "# Máscaras de validação"
   ]
  },
  {
   "cell_type": "code",
   "execution_count": 2,
   "id": "1b01c614-f3d7-4bf2-a743-ed9f77bf7e76",
   "metadata": {},
   "outputs": [],
   "source": [
    "import re"
   ]
  },
  {
   "cell_type": "markdown",
   "id": "b6f3f5ee-d976-4038-bcc7-1e998925373e",
   "metadata": {
    "tags": []
   },
   "source": [
    "## Metodo para validação"
   ]
  },
  {
   "cell_type": "code",
   "execution_count": 3,
   "id": "a3904693-c352-4376-bd3f-b79c5988f35a",
   "metadata": {},
   "outputs": [],
   "source": [
    "def validarExpressao(lista, expressao, questao):\n",
    "    regex = re.compile(expressao)\n",
    "    for i in lista:\n",
    "        verificador = regex.search(i)\n",
    "        if verificador:\n",
    "            print(f'{questao} válido: {verificador.group()}')\n",
    "        else:\n",
    "            print(f'{questao} inválido: {i}')"
   ]
  },
  {
   "cell_type": "markdown",
   "id": "a92dea9f-b408-4a8c-b511-3f3fe49f9635",
   "metadata": {
    "tags": []
   },
   "source": [
    "#### Validação de nome e sobrenome"
   ]
  },
  {
   "cell_type": "code",
   "execution_count": 7,
   "id": "7af5885b-c073-4a42-928c-95e1a21064eb",
   "metadata": {},
   "outputs": [
    {
     "name": "stdout",
     "output_type": "stream",
     "text": [
      "Nome válido: Ada Lovelace\n",
      "Nome válido: Alan Turing\n",
      "Nome válido: Stephen Cole Kleene\n",
      "Nome inválido: 1Alan\n",
      "Nome inválido: Alan\n",
      "Nome inválido: A1an\n",
      "Nome inválido: A1an Turing\n",
      "Nome inválido: Alan turing\n"
     ]
    }
   ],
   "source": [
    "listsNomeSobrenomes = ['Ada Lovelace', 'Alan Turing', 'Stephen Cole Kleene',\n",
    "                       '1Alan', 'Alan', 'A1an', 'A1an Turing', 'Alan turing']\n",
    "\n",
    "expression_name = r'^[A-Z][a-z]+([A-Za-z]\\s?)*[A-Z][a-z]+$'\n",
    "\n",
    "validarExpressao(listsNomeSobrenomes, expression_name, 'Nome')\n"
   ]
  },
  {
   "cell_type": "markdown",
   "id": "fa6abefc-f9b8-45b3-9cd9-021e629e8d60",
   "metadata": {
    "jp-MarkdownHeadingCollapsed": true,
    "tags": []
   },
   "source": [
    "#### Validação do E-mail"
   ]
  },
  {
   "cell_type": "code",
   "execution_count": 8,
   "id": "8cf0f222-b840-4f31-bdad-bd1cee3aa6b7",
   "metadata": {},
   "outputs": [
    {
     "name": "stdout",
     "output_type": "stream",
     "text": [
      "E-mail válido: jeancc.costa@gmail.com\n",
      "E-mail válido: a@a.br\n",
      "E-mail válido: divulga@ufpa.br\n",
      "E-mail válido: a@a.com.br\n",
      "E-mail inválido: @\n",
      "E-mail inválido: a@.br\n",
      "E-mail inválido: @a.br\n",
      "E-mail inválido: T@teste.br\n",
      "E-mail inválido: a@A.com.br\n"
     ]
    }
   ],
   "source": [
    "listEmails = ['jeancc.costa@gmail.com','a@a.br', 'divulga@ufpa.br', 'a@a.com.br',\n",
    "              '@', 'a@.br', '@a.br', 'T@teste.br', 'a@A.com.br']\n",
    "expressao_email = r'^([a-z0-9_.+-]+)@(([a-z])+(\\.[a-z]{2,3})(\\.[a-z]{1,2})?)$'\n",
    "\n",
    "validarExpressao(listEmails, expressao_email, 'E-mail')\n"
   ]
  },
  {
   "cell_type": "markdown",
   "id": "c611e854-9bf6-4663-a837-85cfd142e7fa",
   "metadata": {
    "tags": []
   },
   "source": [
    "#### Validação do Senha"
   ]
  },
  {
   "cell_type": "code",
   "execution_count": 8,
   "id": "0d2b40c7-74e7-4d8e-b7f6-326d87e2cea0",
   "metadata": {},
   "outputs": [
    {
     "name": "stdout",
     "output_type": "stream",
     "text": [
      "Senha válido: 518R2r5e\n",
      "Senha válido: F123456A\n",
      "Senha válido: 1234567T\n",
      "Senha válido: ropsSoq0\n",
      "Senha inválido: F1234567A\n",
      "Senha inválido: abcdefgH\n",
      "Senha inválido: 1234567HI\n"
     ]
    }
   ],
   "source": [
    "listSenhas = ['518R2r5e', 'F123456A', '1234567T', 'ropsSoq0', 'F1234567A', 'abcdefgH', '1234567HI']\n",
    "\n",
    "expression_senha = r'^([0-9a-zA-Z])(?=.*[A-Z])(?=.*[0-9])[0-9a-zA-Z]{7}$'\n",
    "\n",
    "validarExpressao(listSenhas, expression_senha, 'Senha')\n"
   ]
  },
  {
   "cell_type": "markdown",
   "id": "afdc4ba2-0ba2-4a33-b777-63e87479835d",
   "metadata": {
    "jp-MarkdownHeadingCollapsed": true,
    "tags": []
   },
   "source": [
    "#### Validação de CPF"
   ]
  },
  {
   "cell_type": "code",
   "execution_count": 4,
   "id": "4647ea1b-f868-42aa-8ca2-f0d1f0881765",
   "metadata": {},
   "outputs": [
    {
     "name": "stdout",
     "output_type": "stream",
     "text": [
      "CPF válido: 123.456.789-09\n",
      "CPF válido: 000.000.000-00\n",
      "CPF inválido: 123.456.789-0\n",
      "CPF inválido: 111.111.11.-11\n",
      "CPF inválido: 039.859.23.42\n"
     ]
    }
   ],
   "source": [
    "listCPF = ['123.456.789-09','000.000.000-00', '123.456.789-0',\n",
    "           '111.111.11.-11', '039.859.23.42']\n",
    "expression_cpf = r'[0-9]{3}\\.[0-9]{3}\\.[0-9]{3}\\-[0-9]{2}'\n",
    "\n",
    "validarExpressao(listCPF, expression_cpf, 'CPF')"
   ]
  },
  {
   "cell_type": "markdown",
   "id": "119cd288-663d-45b0-8937-c287384a4987",
   "metadata": {
    "tags": []
   },
   "source": [
    "#### Validação de Telefone"
   ]
  },
  {
   "cell_type": "code",
   "execution_count": 6,
   "id": "f8141e4a-870d-45f9-8551-3c5c800d66ca",
   "metadata": {},
   "outputs": [
    {
     "name": "stdout",
     "output_type": "stream",
     "text": [
      "Telefone válido: (91) 99999-9999\n",
      "Telefone inválido: (91) 999999999\n",
      "Telefone inválido: 91 999999999\n",
      "Telefone inválido: (91) 59999-9999\n",
      "Telefone inválido: 99 99999-9999\n",
      "Telefone inválido: (94)95555-5555\n"
     ]
    }
   ],
   "source": [
    "listTelefones = ['(91) 99999-9999', '(91) 999999999', '91 999999999',\n",
    "                 '(91) 59999-9999', '99 99999-9999', '(94)95555-5555']\n",
    "expression_telefone = r'^(\\([1-9]{2}\\)\\s)(9)([1-9]{4}-[0-9]{4})$'\n",
    "\n",
    "validarExpressao(listTelefones, expression_telefone, 'Telefone')"
   ]
  },
  {
   "cell_type": "markdown",
   "id": "5b4733cb-2ee2-497b-8d8a-9c39636469b4",
   "metadata": {
    "tags": []
   },
   "source": [
    "#### Validação de data e hora"
   ]
  },
  {
   "cell_type": "code",
   "execution_count": 5,
   "id": "1618ff85-83f5-4f85-adb3-1727b63f73fa",
   "metadata": {},
   "outputs": [
    {
     "name": "stdout",
     "output_type": "stream",
     "text": [
      "Data e horário válido: 31/08/2019 20:14:55\n",
      "Data e horário válido: 99/99/9999 23:59:59\n",
      "Data e horário inválido: 99/99/9999 3:9:9\n",
      "Data e horário inválido: 9/9/99 99:99:99\n",
      "Data e horário inválido: 99/99/999903:09:09\n"
     ]
    }
   ],
   "source": [
    "list_dataHoras = ['31/08/2019 20:14:55', '99/99/9999 23:59:59', \n",
    "                  '99/99/9999 3:9:9', '9/9/99 99:99:99', '99/99/999903:09:09']\n",
    "expression_dataHora = r'^([0-9]{2}/[0-9]{2}/[0-9]{4}) ([0-9]{2}:[0-9]{2}:[0-9]{2})$'\n",
    "\n",
    "validarExpressao(list_dataHoras, expression_dataHora, 'Data e horário')"
   ]
  },
  {
   "cell_type": "markdown",
   "id": "ca0d7399-47e6-48d9-a195-cf689ada2b5e",
   "metadata": {
    "tags": []
   },
   "source": [
    "#### Validação de Numeros reais com ou sem sinal"
   ]
  },
  {
   "cell_type": "code",
   "execution_count": 4,
   "id": "344ba209-944e-475d-8b09-1a1ebdcedc30",
   "metadata": {},
   "outputs": [
    {
     "name": "stdout",
     "output_type": "stream",
     "text": [
      "Números válido: -25.467\n",
      "Números válido: 1\n",
      "Números válido: -1\n",
      "Números válido: +1\n",
      "Números válido: 64.2\n",
      "Números inválido: 1.\n",
      "Números inválido: .2\n",
      "Números inválido: +64,2\n"
     ]
    }
   ],
   "source": [
    "listNumeroReais = ['-25.467', '1', '-1', '+1', '64.2', '1.', '.2', '+64,2']\n",
    "expression_numeroReais = r'^([+-]?[0-9]+(?:\\.[0-9]+)?)$'\n",
    "\n",
    "validarExpressao(listNumeroReais, expression_numeroReais, 'Números')"
   ]
  }
 ],
 "metadata": {
  "kernelspec": {
   "display_name": "Python 3 (ipykernel)",
   "language": "python",
   "name": "python3"
  },
  "language_info": {
   "codemirror_mode": {
    "name": "ipython",
    "version": 3
   },
   "file_extension": ".py",
   "mimetype": "text/x-python",
   "name": "python",
   "nbconvert_exporter": "python",
   "pygments_lexer": "ipython3",
   "version": "3.10.4"
  }
 },
 "nbformat": 4,
 "nbformat_minor": 5
}
