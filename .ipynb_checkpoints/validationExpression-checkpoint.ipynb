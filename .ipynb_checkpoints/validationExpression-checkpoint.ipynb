{
 "cells": [
  {
   "cell_type": "markdown",
   "id": "52b436c0-5d94-4c5b-a596-262d81e19b2b",
   "metadata": {
    "tags": []
   },
   "source": [
    "# Máscaras de validação"
   ]
  },
  {
   "cell_type": "code",
   "execution_count": 1,
   "id": "1b01c614-f3d7-4bf2-a743-ed9f77bf7e76",
   "metadata": {},
   "outputs": [],
   "source": [
    "import re"
   ]
  },
  {
   "cell_type": "markdown",
   "id": "a92dea9f-b408-4a8c-b511-3f3fe49f9635",
   "metadata": {
    "jp-MarkdownHeadingCollapsed": true,
    "tags": []
   },
   "source": [
    "#### Validação de nome e sobrenome"
   ]
  },
  {
   "cell_type": "code",
   "execution_count": 5,
   "id": "7af5885b-c073-4a42-928c-95e1a21064eb",
   "metadata": {},
   "outputs": [
    {
     "name": "stdout",
     "output_type": "stream",
     "text": [
      "E-mail válido: Ada Lovelace\n",
      "E-mail válido: Alan Turing\n",
      "E-mail válido: Stephen Cole Kleene\n",
      "E-mail inválido: 1Alan\n",
      "E-mail inválido: Alan\n",
      "E-mail inválido: A1an\n",
      "E-mail inválido: A1an Turing\n",
      "E-mail inválido: Alan turing\n"
     ]
    }
   ],
   "source": [
    "## Definifindo o alfabeto minúsculo\n",
    "\n",
    "listsNomeSobrenomes = ['Ada Lovelace', 'Alan Turing', 'Stephen Cole Kleene', '1Alan', 'Alan', 'A1an', 'A1an Turing', 'Alan turing']\n",
    "#expression_nomeSobrenome = r'^[A-Z]{1}[a-z]+\\ [A-Z]{1}[a-z]*\\ [A-Z]{1}[a-z]*$'\n",
    "expression_name = r'^[A-Z][a-z]+([A-Za-z]\\s?)*[A-Z][a-z]+$'\n",
    "\n",
    "# full_name = f'{first_name} {middle_name} {last_name}'\n",
    "\n",
    "full_name_regex = re.compile(expression_name)\n",
    "\n",
    "for i in listsNomeSobrenomes:\n",
    "    verificador_nome = full_name_regex.search(i)\n",
    "    if verificador_nome:\n",
    "        print(f'E-mail válido: {verificador_nome.group()}')\n",
    "    else:\n",
    "        print(f'E-mail inválido: {i}')"
   ]
  },
  {
   "cell_type": "markdown",
   "id": "fa6abefc-f9b8-45b3-9cd9-021e629e8d60",
   "metadata": {
    "jp-MarkdownHeadingCollapsed": true,
    "tags": []
   },
   "source": [
    "#### Validação do E-mail"
   ]
  },
  {
   "cell_type": "code",
   "execution_count": 34,
   "id": "8cf0f222-b840-4f31-bdad-bd1cee3aa6b7",
   "metadata": {},
   "outputs": [
    {
     "name": "stdout",
     "output_type": "stream",
     "text": [
      "E-mail válido: jeancc.costa@gmail.com\n",
      "E-mail válido: a@a.br\n",
      "E-mail válido: divulga@ufpa.br\n",
      "E-mail válido: a@a.com.br\n",
      "E-mail inválido: @\n",
      "E-mail inválido: a@.br\n",
      "E-mail inválido: @a.br\n",
      "E-mail inválido: T@teste.br\n",
      "E-mail inválido: a@A.com.br\n"
     ]
    }
   ],
   "source": [
    "listEmails = ['jeancc.costa@gmail.com','a@a.br', 'divulga@ufpa.br', 'a@a.com.br', '@', 'a@.br', '@a.br', 'T@teste.br', 'a@A.com.br']\n",
    "# expressao_email = r'^[a-zA-Z0-9._-]+@[a-zA-Z0-9]+\\.[a-zA-Z\\.a-zA-Z]{1,6}$'\n",
    "expressao_email = r'^([a-z0-9_.+-]+)@(([a-z])+(\\.[a-z]{2,3})(\\.[a-z]{1,2})?)$'\n",
    "email_regex = re.compile(expressao_email)\n",
    "\n",
    "for email in listEmails:\n",
    "    verificador_email = email_regex.search(email)\n",
    "    if verificador:\n",
    "        print(f'E-mail válido: {verificador.group()}')\n",
    "    else:\n",
    "        print(f'E-mail inválido: {email}')"
   ]
  },
  {
   "cell_type": "markdown",
   "id": "c611e854-9bf6-4663-a837-85cfd142e7fa",
   "metadata": {
    "jp-MarkdownHeadingCollapsed": true,
    "tags": []
   },
   "source": [
    "#### Validação do Senha"
   ]
  },
  {
   "cell_type": "code",
   "execution_count": 219,
   "id": "0d2b40c7-74e7-4d8e-b7f6-326d87e2cea0",
   "metadata": {},
   "outputs": [
    {
     "name": "stdout",
     "output_type": "stream",
     "text": [
      "Senha válido: 518R2r5e\n",
      "Senha válido: F123456A\n",
      "Senha válido: 1234567T\n",
      "Senha válido: ropsSoq0\n",
      "Senha inválido: F1234567A\n",
      "Senha inválido: abcdefgH\n",
      "Senha inválido: 1234567HI\n"
     ]
    }
   ],
   "source": [
    "# /^\n",
    "#   (?=.*\\d)              // deve conter ao menos um dígito\n",
    "#   (?=.*[a-z])           // deve conter ao menos uma letra minúscula\n",
    "#   (?=.*[A-Z])           // deve conter ao menos uma letra maiúscula\n",
    "#   (?=.*[$*&@#])         // deve conter ao menos um caractere especial\n",
    "#   [0-9a-zA-Z$*&@#]{8,}  // deve conter ao menos 8 dos caracteres mencionados\n",
    "# $/\n",
    "listSenhas = ['518R2r5e', 'F123456A', '1234567T', 'ropsSoq0', 'F1234567A', 'abcdefgH', '1234567HI']\n",
    "# expression_senha = r'^(?=.*\\d)(?=.*[a-z])(?=.*[A-Z])(?=.*[$*&@#])[0-9a-zA-Z$*&@#]{8,}$'\n",
    "# expression_senha = r'(?=.*[a-z])(?=.*[A-Z])(?=.*[0-9])[0-9a-zA-Z]{8}$'\n",
    "expression_senha = r'^([0-9a-zA-Z])(?=.*[A-Z])(?=.*[0-9])[0-9a-zA-Z]{7}$'\n",
    "password_regex = re.compile(expression_senha)\n",
    "\n",
    "for i in listSenhas:\n",
    "    verificador_senha = password_regex.search(i)\n",
    "    if verificador_senha:\n",
    "        print(f'Senha válido: {verificador_senha.group()}')\n",
    "    else:\n",
    "        print(f'Senha inválido: {i}')"
   ]
  },
  {
   "cell_type": "markdown",
   "id": "afdc4ba2-0ba2-4a33-b777-63e87479835d",
   "metadata": {
    "jp-MarkdownHeadingCollapsed": true,
    "tags": []
   },
   "source": [
    "#### Validação de CPF"
   ]
  },
  {
   "cell_type": "code",
   "execution_count": 241,
   "id": "4647ea1b-f868-42aa-8ca2-f0d1f0881765",
   "metadata": {},
   "outputs": [
    {
     "name": "stdout",
     "output_type": "stream",
     "text": [
      "CPF válido: 123.456.789-09\n",
      "CPF válido: 000.000.000-00\n",
      "CPF inválido: 123.456.789-0\n",
      "CPF inválido: 111.111.11.-11\n"
     ]
    }
   ],
   "source": [
    "listCPF = ['123.456.789-09','000.000.000-00', '123.456.789-0', '111.111.11.-11']\n",
    "expression_cpf = r'[0-9]{3}\\.[0-9]{3}\\.[0-9]{3}\\-[0-9]{2}'\n",
    "cpf_regex = re.compile(expression_cpf)\n",
    "\n",
    "for i in listCPF:\n",
    "    verificador_cpf = cpf_regex.search(i)\n",
    "    if verificador_cpf:\n",
    "        print(f'CPF válido: {verificador_cpf.group()}')\n",
    "    else:\n",
    "        print(f'CPF inválido: {i}')"
   ]
  },
  {
   "cell_type": "markdown",
   "id": "119cd288-663d-45b0-8937-c287384a4987",
   "metadata": {
    "jp-MarkdownHeadingCollapsed": true,
    "tags": []
   },
   "source": [
    "#### Validação de Telefone"
   ]
  },
  {
   "cell_type": "code",
   "execution_count": 6,
   "id": "f8141e4a-870d-45f9-8551-3c5c800d66ca",
   "metadata": {},
   "outputs": [
    {
     "name": "stdout",
     "output_type": "stream",
     "text": [
      "Telefone válido: (91) 99999-9999\n",
      "Telefone inválido: (91) 999999999\n",
      "Telefone inválido: 91 999999999\n",
      "Telefone inválido: (91) 59999-9999\n",
      "Telefone inválido: 99 99999-9999\n",
      "Telefone inválido: (94)95555-5555\n"
     ]
    }
   ],
   "source": [
    "listTelefones = ['(91) 99999-9999', '(91) 999999999', '91 999999999', '(91) 59999-9999', '99 99999-9999', '(94)95555-5555']\n",
    "expression_telefone = r'^(\\([1-9]{2}\\)\\s)(9)([1-9]{4}-[0-9]{4})$'\n",
    "\n",
    "telefone_regex = re.compile(expression_telefone)\n",
    "\n",
    "for i in listTelefones:\n",
    "    verificador_telefone = telefone_regex.search(i)\n",
    "    if verificador_telefone:\n",
    "        print(f'Telefone válido: {verificador_telefone.group()}')\n",
    "    else:\n",
    "        print(f'Telefone inválido: {i}')"
   ]
  },
  {
   "cell_type": "markdown",
   "id": "5b4733cb-2ee2-497b-8d8a-9c39636469b4",
   "metadata": {
    "jp-MarkdownHeadingCollapsed": true,
    "tags": []
   },
   "source": [
    "#### Validação de data e hora"
   ]
  },
  {
   "cell_type": "code",
   "execution_count": 5,
   "id": "1618ff85-83f5-4f85-adb3-1727b63f73fa",
   "metadata": {},
   "outputs": [
    {
     "name": "stdout",
     "output_type": "stream",
     "text": [
      "Valores Válidos: 31/08/2019 20:14:55\n",
      "Valores Válidos: 99/99/9999 23:59:59\n",
      "Valores inválidos: 99/99/9999 3:9:9\n",
      "Valores inválidos: 9/9/99 99:99:99\n",
      "Valores inválidos: 99/99/999903:09:09\n"
     ]
    }
   ],
   "source": [
    "list_dataHoras = ['31/08/2019 20:14:55', '99/99/9999 23:59:59', '99/99/9999 3:9:9', '9/9/99 99:99:99', '99/99/999903:09:09']\n",
    "expression_dataHora = r'^([0-9]{2}/[0-9]{2}/[0-9]{4}) ([0-9]{2}:[0-9]{2}:[0-9]{2})$'\n",
    "\n",
    "dataHora_regex = re.compile(expression_dataHora)\n",
    "\n",
    "for i in list_dataHoras:\n",
    "    verificador_dataHora = dataHora_regex.search(i)\n",
    "    if verificador_dataHora:\n",
    "        print(f'Valores Válidos: {verificador_dataHora.group()}')\n",
    "    else:\n",
    "        print(f'Valores inválidos: {i}')"
   ]
  },
  {
   "cell_type": "markdown",
   "id": "ca0d7399-47e6-48d9-a195-cf689ada2b5e",
   "metadata": {
    "jp-MarkdownHeadingCollapsed": true,
    "tags": []
   },
   "source": [
    "#### Validação de Numeros reais com ou sem sinal"
   ]
  },
  {
   "cell_type": "code",
   "execution_count": 2,
   "id": "344ba209-944e-475d-8b09-1a1ebdcedc30",
   "metadata": {},
   "outputs": [
    {
     "name": "stdout",
     "output_type": "stream",
     "text": [
      "Valores Válidos: -25.467\n",
      "Valores Válidos: 1\n",
      "Valores Válidos: -1\n",
      "Valores Válidos: +1\n",
      "Valores Válidos: 64.2\n",
      "Valores inválidos: 1.\n",
      "Valores inválidos: .2\n",
      "Valores inválidos: +64,2\n"
     ]
    }
   ],
   "source": [
    "listNumeroReais = ['-25.467', '1', '-1', '+1', '64.2', '1.', '.2', '+64,2']\n",
    "expression_numeroReais = r'^([+-]?[0-9]+(?:\\.[0-9]+)?)$'\n",
    "\n",
    "numeroReais_regex = re.compile(expression_numeroReais)\n",
    "\n",
    "for i in listNumeroReais:\n",
    "    verificador_numeroReal = numeroReais_regex.search(i)\n",
    "    if verificador_numeroReal:\n",
    "        print(f'Valores Válidos: {verificador_numeroReal.group()}')\n",
    "    else:\n",
    "        print(f'Valores inválidos: {i}')"
   ]
  },
  {
   "cell_type": "markdown",
   "id": "3fbe6c5c-3ef8-49ce-844e-e0d20c91af88",
   "metadata": {},
   "source": [
    "# Implementação do arranjos familiares"
   ]
  },
  {
   "cell_type": "code",
   "execution_count": null,
   "id": "575f5e87-e078-4597-ba90-e8572e13ea37",
   "metadata": {},
   "outputs": [],
   "source": [
    "regularExpression_familia = r'^[HM]+[hm]+$'\n",
    "\n",
    "familias_regex = re.compile(regularExpression_familia)\n",
    "\n",
    "for i in listFamilias:\n",
    "    verificador_familias = familias_regex.search(i)\n",
    "    if verificador_familias:\n",
    "        print(f'Familias Válidos: {verificador_familias.group()}')\n",
    "    else:\n",
    "        print(f'Familias inválidos: {i}')"
   ]
  }
 ],
 "metadata": {
  "kernelspec": {
   "display_name": "Python 3 (ipykernel)",
   "language": "python",
   "name": "python3"
  },
  "language_info": {
   "codemirror_mode": {
    "name": "ipython",
    "version": 3
   },
   "file_extension": ".py",
   "mimetype": "text/x-python",
   "name": "python",
   "nbconvert_exporter": "python",
   "pygments_lexer": "ipython3",
   "version": "3.10.4"
  }
 },
 "nbformat": 4,
 "nbformat_minor": 5
}
