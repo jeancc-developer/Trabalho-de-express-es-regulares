{
 "cells": [
  {
   "cell_type": "markdown",
   "id": "39e6fae8-18ce-403a-9e37-60d3e0f187d6",
   "metadata": {
    "tags": []
   },
   "source": [
    "# Implementação do arranjos familiares"
   ]
  },
  {
   "cell_type": "code",
   "execution_count": 9,
   "id": "050def2d-4bdd-4faf-8150-3df1bef4d801",
   "metadata": {},
   "outputs": [],
   "source": [
    "import re"
   ]
  },
  {
   "cell_type": "code",
   "execution_count": 10,
   "id": "86d653f7-0a20-429f-ab47-0ab00b269eb5",
   "metadata": {},
   "outputs": [],
   "source": [
    "def verificarExpression(listFamilia, expressionRegular):\n",
    "    familia_regex = re.compile(expressionRegular)\n",
    "    for i in listFamilia:\n",
    "        verificador_familia = familia_regex.search(i)\n",
    "        if verificador_familia:\n",
    "            print(f'Familias Válidos: {verificador_familia.group()}')\n",
    "        else:\n",
    "            print(f'Familias inválidos: {i}')"
   ]
  },
  {
   "cell_type": "markdown",
   "id": "6f4563b0-685d-43f0-b1df-194500e76b9c",
   "metadata": {
    "jp-MarkdownHeadingCollapsed": true,
    "tags": []
   },
   "source": [
    "#### a) Casais heterossexuais mais velhos que os filhos com pelo menos duas filhas mulheres, ou pelo menos um filho homem, ou ainda pelo menos dois filhos homens e uma filha mulher."
   ]
  },
  {
   "cell_type": "code",
   "execution_count": 7,
   "id": "28541482-70bd-48bb-b0c5-04b82ecafc20",
   "metadata": {},
   "outputs": [
    {
     "ename": "NameError",
     "evalue": "name 'ExpressionRegular' is not defined",
     "output_type": "error",
     "traceback": [
      "\u001b[1;31m---------------------------------------------------------------------------\u001b[0m",
      "\u001b[1;31mNameError\u001b[0m                                 Traceback (most recent call last)",
      "Input \u001b[1;32mIn [7]\u001b[0m, in \u001b[0;36m<cell line: 4>\u001b[1;34m()\u001b[0m\n\u001b[0;32m      1\u001b[0m listArranjo \u001b[38;5;241m=\u001b[39m [\u001b[38;5;124m'\u001b[39m\u001b[38;5;124mMHmmm\u001b[39m\u001b[38;5;124m'\u001b[39m]\n\u001b[0;32m      2\u001b[0m regularExpression_familia \u001b[38;5;241m=\u001b[39m \u001b[38;5;124mr\u001b[39m\u001b[38;5;124m'\u001b[39m\u001b[38;5;124m((HM|MH)*)((h|m)(h|m)(h|m)*)$\u001b[39m\u001b[38;5;124m'\u001b[39m\n\u001b[1;32m----> 4\u001b[0m \u001b[43mExpressionRegular\u001b[49m\u001b[38;5;241m.\u001b[39mverificarExpression(listArranjo, regularExpression_familia)\n",
      "\u001b[1;31mNameError\u001b[0m: name 'ExpressionRegular' is not defined"
     ]
    }
   ],
   "source": [
    "listArranjo = ['MHmmm']\n",
    "regularExpression_familia = r'((HM|MH)*)((h|m)(h|m)(h|m)*)$'\n",
    "\n",
    "ExpressionRegular.verificarExpression(listArranjo, regularExpression_familia)"
   ]
  },
  {
   "cell_type": "markdown",
   "id": "6c4c20ad-b440-4812-a637-8343c1933f4a",
   "metadata": {
    "jp-MarkdownHeadingCollapsed": true,
    "tags": []
   },
   "source": [
    "#### b) Casais heterossexuais mais velhos que os filhos e com uma quantidade ímpar de filhas mulheres."
   ]
  },
  {
   "cell_type": "code",
   "execution_count": null,
   "id": "cb9d0861-0d32-458b-a99e-2ea798d62a98",
   "metadata": {},
   "outputs": [],
   "source": [
    "expressionRegular_b = r'^((HM|MH)*)((h|m)*m{3})$'\n",
    "listFamilia_b = ['HMhmmm']\n",
    "\n",
    "ExpressionRegular.verificarExpression(listFamilia_b, expressionRegular_b)"
   ]
  },
  {
   "cell_type": "markdown",
   "id": "7c091057-8242-465f-97cc-3ea44b365697",
   "metadata": {
    "jp-MarkdownHeadingCollapsed": true,
    "tags": []
   },
   "source": [
    "#### c) Casais heterossexuais mais velhos que os filhos, com a filha mais velha mulher e o filho mais novo homem."
   ]
  },
  {
   "cell_type": "code",
   "execution_count": null,
   "id": "09faf307-937c-466f-83d3-68bfe73b25a7",
   "metadata": {},
   "outputs": [],
   "source": [
    "listFamilia_c =  ['HMmh', 'MHhm']\n",
    "expressionRegular_c = r'^(HM|MH)*mh$'\n",
    "\n",
    "ExpressionRegular.verificarExpression(listFamilia_c, expressionRegular_c)"
   ]
  },
  {
   "cell_type": "markdown",
   "id": "312a7041-2a3e-4562-a0f9-7ad4cce71174",
   "metadata": {
    "tags": []
   },
   "source": [
    "#### d) Casais homossexuais mais velhos que os filhos, com pelo menos seis filhos, em que os dois primeiros filhos formam um casal e os últimos também."
   ]
  },
  {
   "cell_type": "code",
   "execution_count": 29,
   "id": "970c3087-e356-437d-841a-07860331a74a",
   "metadata": {},
   "outputs": [
    {
     "name": "stdout",
     "output_type": "stream",
     "text": [
      "Familias Válidos: HHhmhmhmmmhhhmhm\n",
      "Familias Válidos: MMmhmhhhhmmhmhmh\n",
      "Familias inválidos: HMmhhhmmm\n"
     ]
    }
   ],
   "source": [
    "listFamilia_d =  ['HHhmhmhmmmhhhmhm', 'MMmhmhhhhmmhmhmh', 'HMmhhhmmm']\n",
    "\n",
    "expressionRegular_d = r'(MM|HH)+(mh|hm){2}(h|m)+(mh|hm)'\n",
    "\n",
    "verificarExpression(listFamilia_d, expressionRegular_d)"
   ]
  },
  {
   "cell_type": "markdown",
   "id": "cc4fd07d-32ba-482d-8427-bc9c2cd895b4",
   "metadata": {
    "tags": []
   },
   "source": [
    "#### e) Casais homossexuais mais velhos que os filhos, em que o sexo dos filhos é alternado conforme a ordem de nascimento."
   ]
  },
  {
   "cell_type": "code",
   "execution_count": 80,
   "id": "1a957ffe-00c5-4199-b5ee-ccd6245e6034",
   "metadata": {},
   "outputs": [
    {
     "name": "stdout",
     "output_type": "stream",
     "text": [
      "Familias Válidos: HHmhmhmhmh\n",
      "Familias Válidos: MMhmhmhmhmhmhm\n",
      "Familias inválidos: MMhhmhmh\n"
     ]
    }
   ],
   "source": [
    "listFamilias_e = ['HHmhmhmhmh', 'MMhmhmhmhmhmhm', 'MMhhmhmh']\n",
    "expressionRegular_e = r'(MM|HH)((hm)+(m|)|(mh)+(h|))'\n",
    "verificarExpression(listFamilias_e, expressionRegular_e)"
   ]
  },
  {
   "cell_type": "markdown",
   "id": "15aa52df-6bd5-416d-953f-80bf02b0b17b",
   "metadata": {},
   "source": [
    "#### f) Casais homossexuais mais velhos que os filhos, com qualquer quantidade de filhos homens e mulheres, mas que não tiveram dois filhos homens consecutivos."
   ]
  },
  {
   "cell_type": "code",
   "execution_count": 93,
   "id": "4f25a27f-1bdc-4872-af2a-4e5e711e0fd7",
   "metadata": {},
   "outputs": [
    {
     "name": "stdout",
     "output_type": "stream",
     "text": [
      "Familias Válidos: MMmhmhmh\n",
      "Familias Válidos: HHmhmh\n"
     ]
    }
   ],
   "source": [
    "listaFamilias_f = ['MMmhmhmhhmm', 'HHmhmhh']\n",
    "expressionRegular_f = r'(HH|MM)(m|hm)+(h|)'\n",
    "verificarExpression(listaFamilias_f, expressionRegular_f)"
   ]
  },
  {
   "cell_type": "markdown",
   "id": "06e08a01-d948-446a-8c98-98dcbc445613",
   "metadata": {},
   "source": [
    "#### g) Arranjo de no mínimo x∈ℕ e no máximo y∈ℕ, com x>0 , y>0 , e x≤y , de adultos (Hs ou Ms) mais velhos que os filhos, com qualquer quantidade de filhos homens e mulheres, mas que os três filhos mais novos não foram homens"
   ]
  },
  {
   "cell_type": "code",
   "execution_count": null,
   "id": "89522883-7568-44cc-9ba4-ae43d6d4f6ed",
   "metadata": {},
   "outputs": [],
   "source": [
    "expressionRegular_g = r'(HH|MM)+'"
   ]
  }
 ],
 "metadata": {
  "kernelspec": {
   "display_name": "Python 3 (ipykernel)",
   "language": "python",
   "name": "python3"
  },
  "language_info": {
   "codemirror_mode": {
    "name": "ipython",
    "version": 3
   },
   "file_extension": ".py",
   "mimetype": "text/x-python",
   "name": "python",
   "nbconvert_exporter": "python",
   "pygments_lexer": "ipython3",
   "version": "3.10.4"
  }
 },
 "nbformat": 4,
 "nbformat_minor": 5
}
