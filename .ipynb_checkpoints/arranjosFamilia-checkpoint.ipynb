{
 "cells": [
  {
   "cell_type": "markdown",
   "id": "39e6fae8-18ce-403a-9e37-60d3e0f187d6",
   "metadata": {
    "tags": []
   },
   "source": [
    "# Implementação do arranjos familiares"
   ]
  },
  {
   "cell_type": "code",
   "execution_count": 18,
   "id": "050def2d-4bdd-4faf-8150-3df1bef4d801",
   "metadata": {},
   "outputs": [],
   "source": [
    "import re"
   ]
  },
  {
   "cell_type": "code",
   "execution_count": 20,
   "id": "86d653f7-0a20-429f-ab47-0ab00b269eb5",
   "metadata": {},
   "outputs": [],
   "source": [
    "class ExpressionRegular():\n",
    "    def verificarExpression(listFamilia, expressionRegular):\n",
    "        familia_regex = re.compile(expressionRegular)\n",
    "        for i in listFamilia:\n",
    "            verificador_familia = familia_regex.search(i)\n",
    "            if verificador_familia:\n",
    "                print(f'Familias Válidos: {verificador_familia.group()}')\n",
    "            else:\n",
    "                print(f'Familias inválidos: {i}')"
   ]
  },
  {
   "cell_type": "markdown",
   "id": "6f4563b0-685d-43f0-b1df-194500e76b9c",
   "metadata": {
    "jp-MarkdownHeadingCollapsed": true,
    "tags": []
   },
   "source": [
    "#### a) Casais heterossexuais mais velhos que os filhos com pelo menos duas filhas mulheres, ou pelo menos um filho homem, ou ainda pelo menos dois filhos homens e uma filha mulher."
   ]
  },
  {
   "cell_type": "code",
   "execution_count": 43,
   "id": "28541482-70bd-48bb-b0c5-04b82ecafc20",
   "metadata": {},
   "outputs": [
    {
     "name": "stdout",
     "output_type": "stream",
     "text": [
      "Familias Válidos: HMhmmm\n"
     ]
    }
   ],
   "source": [
    "listArranjo = ['MHmmm']\n",
    "regularExpression_familia = r'([HM|MH]*)([h|m][h|m][h|m]*)$'\n",
    "\n",
    "ExpressionRegular.verificarExpression(listArranjo, regularExpression_familia)"
   ]
  },
  {
   "cell_type": "markdown",
   "id": "6c4c20ad-b440-4812-a637-8343c1933f4a",
   "metadata": {
    "tags": []
   },
   "source": [
    "#### b) Casais heterossexuais mais velhos que os filhos e com uma quantidade ímpar de filhas mulheres."
   ]
  },
  {
   "cell_type": "code",
   "execution_count": 46,
   "id": "cb9d0861-0d32-458b-a99e-2ea798d62a98",
   "metadata": {},
   "outputs": [
    {
     "name": "stdout",
     "output_type": "stream",
     "text": [
      "Familias Válidos: HMhmmm\n"
     ]
    }
   ],
   "source": [
    "expressionRegular_b = r'^([HM\\|MH]*)([h|m]*[m]{3})$'\n",
    "listFamilia_b = ['HMhmmm']\n",
    "\n",
    "ExpressionRegular.verificarExpression(listFamilia_b, expressionRegular_b)"
   ]
  },
  {
   "cell_type": "markdown",
   "id": "7c091057-8242-465f-97cc-3ea44b365697",
   "metadata": {
    "tags": []
   },
   "source": [
    "#### c) Casais heterossexuais mais velhos que os filhos, com a filha mais velha mulher e o filho mais novo homem."
   ]
  },
  {
   "cell_type": "code",
   "execution_count": 22,
   "id": "09faf307-937c-466f-83d3-68bfe73b25a7",
   "metadata": {},
   "outputs": [
    {
     "name": "stdout",
     "output_type": "stream",
     "text": [
      "Familias Válidos: HMmh\n",
      "Familias inválidos: MHhm\n"
     ]
    }
   ],
   "source": [
    "listFamilia_c =  ['HMmh', 'MHhm']\n",
    "expressionRegular_c = r'^((HM|MH)*mh)$'\n",
    "\n",
    "ExpressionRegular.verificarExpression(listFamilia_c, expressionRegular_c)"
   ]
  },
  {
   "cell_type": "markdown",
   "id": "312a7041-2a3e-4562-a0f9-7ad4cce71174",
   "metadata": {},
   "source": [
    "#### d) Casais homossexuais mais velhos que os filhos, com pelo menos seis filhos, em que os dois primeiros filhos formam um casal e os últimos também."
   ]
  },
  {
   "cell_type": "code",
   "execution_count": 49,
   "id": "970c3087-e356-437d-841a-07860331a74a",
   "metadata": {},
   "outputs": [
    {
     "name": "stdout",
     "output_type": "stream",
     "text": [
      "Familias inválidos: HMhmhmhmmmhhhmhm\n",
      "Familias Válidos: MMmhmhhhhmmhmhmh\n",
      "Familias inválidos: HMmhhhmmm\n"
     ]
    }
   ],
   "source": [
    "listFamilia_d =  ['HHhmhmhmmmhhhmhm', 'MMmhmhhhhmmhmhmh', 'HMmhhhmmm']\n",
    "\n",
    "expressionRegular_d = r'(MM|HH)+(mh|hm){2}(h|m)+(mh|hm)'\n",
    "\n",
    "ExpressionRegular.verificarExpression(listFamilia_d, expressionRegular_d)"
   ]
  },
  {
   "cell_type": "code",
   "execution_count": null,
   "id": "74714fdb-0300-406c-88f0-9a732aa95683",
   "metadata": {},
   "outputs": [],
   "source": []
  }
 ],
 "metadata": {
  "kernelspec": {
   "display_name": "Python 3 (ipykernel)",
   "language": "python",
   "name": "python3"
  },
  "language_info": {
   "codemirror_mode": {
    "name": "ipython",
    "version": 3
   },
   "file_extension": ".py",
   "mimetype": "text/x-python",
   "name": "python",
   "nbconvert_exporter": "python",
   "pygments_lexer": "ipython3",
   "version": "3.10.4"
  }
 },
 "nbformat": 4,
 "nbformat_minor": 5
}
