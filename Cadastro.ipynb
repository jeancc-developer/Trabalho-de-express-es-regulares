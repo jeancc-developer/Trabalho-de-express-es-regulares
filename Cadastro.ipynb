{
 "cells": [
  {
   "cell_type": "markdown",
   "id": "52b436c0-5d94-4c5b-a596-262d81e19b2b",
   "metadata": {
    "tags": []
   },
   "source": [
    "# Máscaras de validação"
   ]
  },
  {
   "cell_type": "markdown",
   "id": "a92dea9f-b408-4a8c-b511-3f3fe49f9635",
   "metadata": {},
   "source": [
    "#### Validação de nome e sobrenome"
   ]
  },
  {
   "cell_type": "code",
   "execution_count": 95,
   "id": "7af5885b-c073-4a42-928c-95e1a21064eb",
   "metadata": {},
   "outputs": [
    {
     "name": "stdout",
     "output_type": "stream",
     "text": [
      "E-mail inválido: Ada Lovelace\n",
      "E-mail inválido: Alan Turing\n",
      "E-mail válido: Stephen Cole Kleene\n",
      "E-mail inválido: 1Alan\n",
      "E-mail inválido: Alan\n",
      "E-mail inválido: A1an\n",
      "E-mail inválido: A1an Turing\n",
      "E-mail inválido: Alan turing\n"
     ]
    }
   ],
   "source": [
    "import re\n",
    "## Definifindo o alfabeto minúsculo\n",
    "\n",
    "listsNomeSobrenomes = ['Ada Lovelace', 'Alan Turing', 'Stephen Cole Kleene', '1Alan', 'Alan', 'A1an', 'A1an Turing', 'Alan turing']\n",
    "#expression_nomeSobrenome = r'^[A-Z]{1}[a-z]+\\ [A-Z]{1}[a-z]*\\ [A-Z]{1}[a-z]*$'\n",
    "first_name = r'^[A-Z]{1}[a-z]+'\n",
    "middle_name = r'[A-Z][a-z]*'\n",
    "last_name = r'[A-Z]{1}[a-z]+$'\n",
    "\n",
    "full_name = f\"{first_name} {middle_name} {last_name}\"\n",
    "\n",
    "full_name_regex = re.compile(full_name)\n",
    "\n",
    "for i in listsNomeSobrenomes:\n",
    "    verificador = full_name_regex.search(i)\n",
    "    if verificador:\n",
    "        print(f'E-mail válido: {verificador.group()}')\n",
    "    else:\n",
    "        print(f'E-mail inválido: {i}')"
   ]
  },
  {
   "cell_type": "markdown",
   "id": "fa6abefc-f9b8-45b3-9cd9-021e629e8d60",
   "metadata": {
    "tags": []
   },
   "source": [
    "#### Validação do E-mail"
   ]
  },
  {
   "cell_type": "code",
   "execution_count": 34,
   "id": "8cf0f222-b840-4f31-bdad-bd1cee3aa6b7",
   "metadata": {},
   "outputs": [
    {
     "name": "stdout",
     "output_type": "stream",
     "text": [
      "E-mail válido: jeancc.costa@gmail.com\n",
      "E-mail válido: a@a.br\n",
      "E-mail válido: divulga@ufpa.br\n",
      "E-mail válido: a@a.com.br\n",
      "E-mail inválido: @\n",
      "E-mail inválido: a@.br\n",
      "E-mail inválido: @a.br\n",
      "E-mail inválido: T@teste.br\n",
      "E-mail inválido: a@A.com.br\n"
     ]
    }
   ],
   "source": [
    "listEmails = ['jeancc.costa@gmail.com','a@a.br', 'divulga@ufpa.br', 'a@a.com.br', '@', 'a@.br', '@a.br', 'T@teste.br', 'a@A.com.br']\n",
    "# expressao_email = r'^[a-zA-Z0-9._-]+@[a-zA-Z0-9]+\\.[a-zA-Z\\.a-zA-Z]{1,6}$'\n",
    "expressao_email = r'^([a-z0-9_.+-]+)@(([a-z])+(\\.[a-z]{2,3})(\\.[a-z]{1,2})?)$'\n",
    "email_regex = re.compile(expressao_email)\n",
    "\n",
    "for email in listEmails:\n",
    "    verificador = email_regex.search(email)\n",
    "    if verificador:\n",
    "        print(f'E-mail válido: {verificador.group()}')\n",
    "    else:\n",
    "        print(f'E-mail inválido: {email}')"
   ]
  },
  {
   "cell_type": "markdown",
   "id": "c611e854-9bf6-4663-a837-85cfd142e7fa",
   "metadata": {},
   "source": [
    "#### Validação do Senha"
   ]
  },
  {
   "cell_type": "code",
   "execution_count": 105,
   "id": "0d2b40c7-74e7-4d8e-b7f6-326d87e2cea0",
   "metadata": {},
   "outputs": [
    {
     "name": "stdout",
     "output_type": "stream",
     "text": [
      "['0910@jeaN123']\n"
     ]
    }
   ],
   "source": [
    "# /^\n",
    "#   (?=.*\\d)              // deve conter ao menos um dígito\n",
    "#   (?=.*[a-z])           // deve conter ao menos uma letra minúscula\n",
    "#   (?=.*[A-Z])           // deve conter ao menos uma letra maiúscula\n",
    "#   (?=.*[$*&@#])         // deve conter ao menos um caractere especial\n",
    "#   [0-9a-zA-Z$*&@#]{8,}  // deve conter ao menos 8 dos caracteres mencionados\n",
    "# $/\n",
    "senha = ['518R2r5e', 'F123456A', '1234567T', 'ropsSoq0', 'F1234567A', 'abcdefgH', '1234567HI']\n",
    "expression_senha = r'^(?=.*\\d)(?=.*[a-z])(?=.*[A-Z])(?=.*[$*&@#])[0-9a-zA-Z$*&@#]{8,}$'\n",
    "\n",
    "\n",
    "\n"
   ]
  }
 ],
 "metadata": {
  "kernelspec": {
   "display_name": "Python 3 (ipykernel)",
   "language": "python",
   "name": "python3"
  },
  "language_info": {
   "codemirror_mode": {
    "name": "ipython",
    "version": 3
   },
   "file_extension": ".py",
   "mimetype": "text/x-python",
   "name": "python",
   "nbconvert_exporter": "python",
   "pygments_lexer": "ipython3",
   "version": "3.9.7"
  }
 },
 "nbformat": 4,
 "nbformat_minor": 5
}
